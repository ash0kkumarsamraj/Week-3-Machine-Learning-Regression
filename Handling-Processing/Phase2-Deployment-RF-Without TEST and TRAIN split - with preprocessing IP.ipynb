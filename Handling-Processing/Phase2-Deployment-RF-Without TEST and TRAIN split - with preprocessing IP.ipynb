{
 "cells": [
  {
   "cell_type": "code",
   "execution_count": 3,
   "id": "05df5fac",
   "metadata": {},
   "outputs": [],
   "source": [
    "import pandas as pd\n",
    "dataset=pd.read_csv(\"insurance_pre.csv\")\n",
    "dataset=pd.get_dummies(dataset,dtype=int,drop_first=True)\n",
    "independent=dataset[['age', 'bmi', 'children', 'sex_male', 'smoker_yes']]\n",
    "dependent=dataset[['charges']]"
   ]
  },
  {
   "cell_type": "code",
   "execution_count": 4,
   "id": "76e136a2",
   "metadata": {},
   "outputs": [],
   "source": [
    "from sklearn.preprocessing import StandardScaler\n",
    "sc=StandardScaler()\n",
    "independent=sc.fit_transform(independent)"
   ]
  },
  {
   "cell_type": "code",
   "execution_count": 10,
   "id": "98aea083",
   "metadata": {},
   "outputs": [
    {
     "name": "stdout",
     "output_type": "stream",
     "text": [
      "Enter the age (in Years): 32\n",
      "Enter BMI: 27\n",
      "Enter the number of children: 1\n",
      "Enter the Gender for Male 1 for Female 0: 1\n",
      "Smoker for YES 1 for NO 0:1\n",
      "The premium is Rs. [19386.9194073]\n"
     ]
    },
    {
     "name": "stderr",
     "output_type": "stream",
     "text": [
      "C:\\Users\\DEEPAK\\anaconda3\\Lib\\site-packages\\sklearn\\base.py:464: UserWarning: X does not have valid feature names, but StandardScaler was fitted with feature names\n",
      "  warnings.warn(\n"
     ]
    }
   ],
   "source": [
    "import pickle\n",
    "load_model=pickle.load(open(\"FINAL_MODEL_GRIDSEARCHCV_WITHOUT_TRAIN_TEST_SPLIT_WITH_PREPROCESSING_IP_RF.sav\", 'rb'))\n",
    "age=int(input(\"Enter the age (in Years): \"))\n",
    "bmi=float(input(\"Enter BMI: \"))\n",
    "child=int(input(\"Enter the number of children: \"))\n",
    "sex=int(input(\"Enter the Gender for Male 1 for Female 0: \"))\n",
    "smoke=int(input(\"Smoker for YES 1 for NO 0:\"))\n",
    "pre_input=sc.transform([[age,bmi,child,sex,smoke]])\n",
    "result=load_model.predict(pre_input)\n",
    "print(\"The premium is Rs.\",result)\n"
   ]
  }
 ],
 "metadata": {
  "kernelspec": {
   "display_name": "Python 3 (ipykernel)",
   "language": "python",
   "name": "python3"
  },
  "language_info": {
   "codemirror_mode": {
    "name": "ipython",
    "version": 3
   },
   "file_extension": ".py",
   "mimetype": "text/x-python",
   "name": "python",
   "nbconvert_exporter": "python",
   "pygments_lexer": "ipython3",
   "version": "3.11.5"
  }
 },
 "nbformat": 4,
 "nbformat_minor": 5
}
