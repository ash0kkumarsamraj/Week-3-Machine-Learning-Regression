{
 "cells": [
  {
   "cell_type": "code",
   "execution_count": 1,
   "id": "47b181b2",
   "metadata": {},
   "outputs": [],
   "source": [
    "import pickle"
   ]
  },
  {
   "cell_type": "code",
   "execution_count": 2,
   "id": "2940572d",
   "metadata": {},
   "outputs": [],
   "source": [
    "load_model=pickle.load(open(\"final_SVM.sav\", 'rb'))"
   ]
  },
  {
   "cell_type": "code",
   "execution_count": 3,
   "id": "4d4e204a",
   "metadata": {},
   "outputs": [
    {
     "name": "stdout",
     "output_type": "stream",
     "text": [
      "Enter the Budget for R&D: 12345\n",
      "Enter the Budget for Administration: 54321\n",
      "Enter the Budget for Marketing: 24680\n",
      "Enter the State is Florida - type 0 for no and type 1 for yes: 0\n",
      "Enter the State is New York - type 0 for no and type 1 for yes: 1\n",
      "The profile is Rs. [6.966132e+08]\n"
     ]
    }
   ],
   "source": [
    "RD=float(input(\"Enter the Budget for R&D: \"))\n",
    "ADMIN=float(input(\"Enter the Budget for Administration: \"))\n",
    "MARK=float(input(\"Enter the Budget for Marketing: \"))\n",
    "STF=float(input(\"Enter the State is Florida - type 0 for no and type 1 for yes: \"))\n",
    "STN=float(input(\"Enter the State is New York - type 0 for no and type 1 for yes: \"))\n",
    "result=load_model.predict([[RD,ADMIN,MARK,STF,STN]])\n",
    "print(\"The profile is Rs.\",result)"
   ]
  },
  {
   "cell_type": "code",
   "execution_count": null,
   "id": "65dd1af5",
   "metadata": {},
   "outputs": [],
   "source": []
  }
 ],
 "metadata": {
  "kernelspec": {
   "display_name": "Python 3 (ipykernel)",
   "language": "python",
   "name": "python3"
  },
  "language_info": {
   "codemirror_mode": {
    "name": "ipython",
    "version": 3
   },
   "file_extension": ".py",
   "mimetype": "text/x-python",
   "name": "python",
   "nbconvert_exporter": "python",
   "pygments_lexer": "ipython3",
   "version": "3.11.5"
  }
 },
 "nbformat": 4,
 "nbformat_minor": 5
}
