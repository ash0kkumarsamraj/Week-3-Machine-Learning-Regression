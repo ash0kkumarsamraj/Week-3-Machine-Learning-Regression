{
 "cells": [
  {
   "cell_type": "code",
   "execution_count": 1,
   "id": "4190237e",
   "metadata": {},
   "outputs": [],
   "source": [
    "import pickle"
   ]
  },
  {
   "cell_type": "code",
   "execution_count": 2,
   "id": "7e3cc0f3",
   "metadata": {},
   "outputs": [],
   "source": [
    "load_model=pickle.load(open(\"Final_model_RF.sav\", 'rb'))"
   ]
  },
  {
   "cell_type": "code",
   "execution_count": 3,
   "id": "08834aac",
   "metadata": {},
   "outputs": [
    {
     "name": "stdout",
     "output_type": "stream",
     "text": [
      "Enter the Budget for R&D: 12345\n",
      "Enter the Budget for Administration: 54321\n",
      "Enter the Budget for Marketing: 14352\n",
      "Enter the State is Florida - type 0 for no and type 1 for yes: 0\n",
      "Enter the State is New York - type 0 for no and type 1 for yes: 1\n",
      "The profile is Rs. [68283.422]\n"
     ]
    },
    {
     "name": "stderr",
     "output_type": "stream",
     "text": [
      "C:\\Users\\DEEPAK\\anaconda3\\Lib\\site-packages\\sklearn\\base.py:464: UserWarning: X does not have valid feature names, but RandomForestRegressor was fitted with feature names\n",
      "  warnings.warn(\n"
     ]
    }
   ],
   "source": [
    "RD=float(input(\"Enter the Budget for R&D: \"))\n",
    "ADMIN=float(input(\"Enter the Budget for Administration: \"))\n",
    "MARK=float(input(\"Enter the Budget for Marketing: \"))\n",
    "STF=float(input(\"Enter the State is Florida - type 0 for no and type 1 for yes: \"))\n",
    "STN=float(input(\"Enter the State is New York - type 0 for no and type 1 for yes: \"))\n",
    "result=load_model.predict([[RD,ADMIN,MARK,STF,STN]])\n",
    "print(\"The profile is Rs.\",result)"
   ]
  }
 ],
 "metadata": {
  "kernelspec": {
   "display_name": "Python 3 (ipykernel)",
   "language": "python",
   "name": "python3"
  },
  "language_info": {
   "codemirror_mode": {
    "name": "ipython",
    "version": 3
   },
   "file_extension": ".py",
   "mimetype": "text/x-python",
   "name": "python",
   "nbconvert_exporter": "python",
   "pygments_lexer": "ipython3",
   "version": "3.11.5"
  }
 },
 "nbformat": 4,
 "nbformat_minor": 5
}
