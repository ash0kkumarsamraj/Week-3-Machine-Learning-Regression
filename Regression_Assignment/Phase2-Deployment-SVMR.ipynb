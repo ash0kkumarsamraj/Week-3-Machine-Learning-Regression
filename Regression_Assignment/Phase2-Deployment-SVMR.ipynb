{
 "cells": [
  {
   "cell_type": "code",
   "execution_count": 2,
   "id": "62ff2910",
   "metadata": {},
   "outputs": [
    {
     "name": "stdout",
     "output_type": "stream",
     "text": [
      "Enter the age (in Years): 32\n",
      "Enter BMI: 27.1\n",
      "Enter the number of children: 2\n",
      "Enter the Gender for Male 1 for Female 0: 1\n",
      "Smoker for YES 1 for NO 0:0\n",
      "The premium is Rs. [17690.41901345]\n"
     ]
    }
   ],
   "source": [
    "import pickle\n",
    "load_model=pickle.load(open(\"1_FINAL_MODEL_SVM.sav\", 'rb'))\n",
    "age=int(input(\"Enter the age (in Years): \"))\n",
    "bmi=float(input(\"Enter BMI: \"))\n",
    "child=int(input(\"Enter the number of children: \"))\n",
    "sex=int(input(\"Enter the Gender for Male 1 for Female 0: \"))\n",
    "smoke=int(input(\"Smoker for YES 1 for NO 0:\"))\n",
    "result=load_model.predict([[age,bmi,child,sex,smoke]])\n",
    "print(\"The premium is Rs.\",result)"
   ]
  }
 ],
 "metadata": {
  "kernelspec": {
   "display_name": "Python 3 (ipykernel)",
   "language": "python",
   "name": "python3"
  },
  "language_info": {
   "codemirror_mode": {
    "name": "ipython",
    "version": 3
   },
   "file_extension": ".py",
   "mimetype": "text/x-python",
   "name": "python",
   "nbconvert_exporter": "python",
   "pygments_lexer": "ipython3",
   "version": "3.11.5"
  }
 },
 "nbformat": 4,
 "nbformat_minor": 5
}
