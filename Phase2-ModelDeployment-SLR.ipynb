{
 "cells": [
  {
   "cell_type": "code",
   "execution_count": 1,
   "id": "b68edcab",
   "metadata": {},
   "outputs": [],
   "source": [
    "import pickle"
   ]
  },
  {
   "cell_type": "code",
   "execution_count": 2,
   "id": "1a7695a0",
   "metadata": {},
   "outputs": [],
   "source": [
    "final_model=pickle.load(open(\"final_model_SLR.sav\", 'rb'))\n",
    "#Created model is loaded"
   ]
  },
  {
   "cell_type": "code",
   "execution_count": 7,
   "id": "1fcfe0ba",
   "metadata": {},
   "outputs": [
    {
     "name": "stdout",
     "output_type": "stream",
     "text": [
      "Enter the year of experience: 15.6\n",
      "The Monthly salary for the employee with the experience of 15.6 is Rs. [[174366.02013213]]\n"
     ]
    },
    {
     "name": "stderr",
     "output_type": "stream",
     "text": [
      "C:\\Users\\DEEPAK\\anaconda3\\Lib\\site-packages\\sklearn\\base.py:464: UserWarning: X does not have valid feature names, but LinearRegression was fitted with feature names\n",
      "  warnings.warn(\n"
     ]
    }
   ],
   "source": [
    "getvalue=float(input(\"Enter the year of experience: \"))\n",
    "result=final_model.predict([[getvalue]])\n",
    "print(\"The Monthly salary for the employee with the experience of\",getvalue,\"is Rs.\",result)\n",
    "\n",
    "#Getting input from the user\n",
    "#Assigned a variable to save the user response\n",
    "#Assigned a variable to get the predicted value\n",
    "#Printing the output."
   ]
  }
 ],
 "metadata": {
  "kernelspec": {
   "display_name": "Python 3 (ipykernel)",
   "language": "python",
   "name": "python3"
  },
  "language_info": {
   "codemirror_mode": {
    "name": "ipython",
    "version": 3
   },
   "file_extension": ".py",
   "mimetype": "text/x-python",
   "name": "python",
   "nbconvert_exporter": "python",
   "pygments_lexer": "ipython3",
   "version": "3.11.5"
  }
 },
 "nbformat": 4,
 "nbformat_minor": 5
}
